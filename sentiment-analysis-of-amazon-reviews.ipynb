{
 "cells": [
  {
   "cell_type": "code",
   "execution_count": 1,
   "id": "9894f7c6",
   "metadata": {
    "execution": {
     "iopub.execute_input": "2024-09-27T01:55:20.514934Z",
     "iopub.status.busy": "2024-09-27T01:55:20.513781Z",
     "iopub.status.idle": "2024-09-27T01:55:24.275725Z",
     "shell.execute_reply": "2024-09-27T01:55:24.274329Z"
    },
    "papermill": {
     "duration": 3.774904,
     "end_time": "2024-09-27T01:55:24.278609",
     "exception": false,
     "start_time": "2024-09-27T01:55:20.503705",
     "status": "completed"
    },
    "tags": []
   },
   "outputs": [],
   "source": [
    "import pandas as pd\n",
    "import numpy as np\n",
    "import matplotlib.pyplot as plt\n",
    "import seaborn as sns\n",
    "\n",
    "plt.style.use('ggplot')\n",
    "\n",
    "import nltk"
   ]
  },
  {
   "cell_type": "code",
   "execution_count": 2,
   "id": "83b0ba1b",
   "metadata": {
    "execution": {
     "iopub.execute_input": "2024-09-27T01:55:24.296089Z",
     "iopub.status.busy": "2024-09-27T01:55:24.295490Z",
     "iopub.status.idle": "2024-09-27T01:55:32.973153Z",
     "shell.execute_reply": "2024-09-27T01:55:32.971819Z"
    },
    "papermill": {
     "duration": 8.689252,
     "end_time": "2024-09-27T01:55:32.976008",
     "exception": false,
     "start_time": "2024-09-27T01:55:24.286756",
     "status": "completed"
    },
    "tags": []
   },
   "outputs": [
    {
     "name": "stdout",
     "output_type": "stream",
     "text": [
      "(568454, 10)\n",
      "(500, 10)\n"
     ]
    }
   ],
   "source": [
    "# Read in data # df --> dataframe\n",
    "df = pd.read_csv('/kaggle/input/amazon-fine-food-reviews/Reviews.csv/Reviews.csv')\n",
    "print(df.shape)\n",
    "df = df.head(500)\n",
    "print(df.shape)"
   ]
  },
  {
   "cell_type": "code",
   "execution_count": 3,
   "id": "1aa7ba1e",
   "metadata": {
    "execution": {
     "iopub.execute_input": "2024-09-27T01:55:32.993051Z",
     "iopub.status.busy": "2024-09-27T01:55:32.992556Z",
     "iopub.status.idle": "2024-09-27T01:55:33.020168Z",
     "shell.execute_reply": "2024-09-27T01:55:33.019051Z"
    },
    "papermill": {
     "duration": 0.039372,
     "end_time": "2024-09-27T01:55:33.023050",
     "exception": false,
     "start_time": "2024-09-27T01:55:32.983678",
     "status": "completed"
    },
    "tags": []
   },
   "outputs": [
    {
     "data": {
      "text/html": [
       "<div>\n",
       "<style scoped>\n",
       "    .dataframe tbody tr th:only-of-type {\n",
       "        vertical-align: middle;\n",
       "    }\n",
       "\n",
       "    .dataframe tbody tr th {\n",
       "        vertical-align: top;\n",
       "    }\n",
       "\n",
       "    .dataframe thead th {\n",
       "        text-align: right;\n",
       "    }\n",
       "</style>\n",
       "<table border=\"1\" class=\"dataframe\">\n",
       "  <thead>\n",
       "    <tr style=\"text-align: right;\">\n",
       "      <th></th>\n",
       "      <th>Id</th>\n",
       "      <th>ProductId</th>\n",
       "      <th>UserId</th>\n",
       "      <th>ProfileName</th>\n",
       "      <th>HelpfulnessNumerator</th>\n",
       "      <th>HelpfulnessDenominator</th>\n",
       "      <th>Score</th>\n",
       "      <th>Time</th>\n",
       "      <th>Summary</th>\n",
       "      <th>Text</th>\n",
       "    </tr>\n",
       "  </thead>\n",
       "  <tbody>\n",
       "    <tr>\n",
       "      <th>0</th>\n",
       "      <td>1</td>\n",
       "      <td>B001E4KFG0</td>\n",
       "      <td>A3SGXH7AUHU8GW</td>\n",
       "      <td>delmartian</td>\n",
       "      <td>1</td>\n",
       "      <td>1</td>\n",
       "      <td>5</td>\n",
       "      <td>1303862400</td>\n",
       "      <td>Good Quality Dog Food</td>\n",
       "      <td>I have bought several of the Vitality canned d...</td>\n",
       "    </tr>\n",
       "    <tr>\n",
       "      <th>1</th>\n",
       "      <td>2</td>\n",
       "      <td>B00813GRG4</td>\n",
       "      <td>A1D87F6ZCVE5NK</td>\n",
       "      <td>dll pa</td>\n",
       "      <td>0</td>\n",
       "      <td>0</td>\n",
       "      <td>1</td>\n",
       "      <td>1346976000</td>\n",
       "      <td>Not as Advertised</td>\n",
       "      <td>Product arrived labeled as Jumbo Salted Peanut...</td>\n",
       "    </tr>\n",
       "    <tr>\n",
       "      <th>2</th>\n",
       "      <td>3</td>\n",
       "      <td>B000LQOCH0</td>\n",
       "      <td>ABXLMWJIXXAIN</td>\n",
       "      <td>Natalia Corres \"Natalia Corres\"</td>\n",
       "      <td>1</td>\n",
       "      <td>1</td>\n",
       "      <td>4</td>\n",
       "      <td>1219017600</td>\n",
       "      <td>\"Delight\" says it all</td>\n",
       "      <td>This is a confection that has been around a fe...</td>\n",
       "    </tr>\n",
       "    <tr>\n",
       "      <th>3</th>\n",
       "      <td>4</td>\n",
       "      <td>B000UA0QIQ</td>\n",
       "      <td>A395BORC6FGVXV</td>\n",
       "      <td>Karl</td>\n",
       "      <td>3</td>\n",
       "      <td>3</td>\n",
       "      <td>2</td>\n",
       "      <td>1307923200</td>\n",
       "      <td>Cough Medicine</td>\n",
       "      <td>If you are looking for the secret ingredient i...</td>\n",
       "    </tr>\n",
       "    <tr>\n",
       "      <th>4</th>\n",
       "      <td>5</td>\n",
       "      <td>B006K2ZZ7K</td>\n",
       "      <td>A1UQRSCLF8GW1T</td>\n",
       "      <td>Michael D. Bigham \"M. Wassir\"</td>\n",
       "      <td>0</td>\n",
       "      <td>0</td>\n",
       "      <td>5</td>\n",
       "      <td>1350777600</td>\n",
       "      <td>Great taffy</td>\n",
       "      <td>Great taffy at a great price.  There was a wid...</td>\n",
       "    </tr>\n",
       "  </tbody>\n",
       "</table>\n",
       "</div>"
      ],
      "text/plain": [
       "   Id   ProductId          UserId                      ProfileName  \\\n",
       "0   1  B001E4KFG0  A3SGXH7AUHU8GW                       delmartian   \n",
       "1   2  B00813GRG4  A1D87F6ZCVE5NK                           dll pa   \n",
       "2   3  B000LQOCH0   ABXLMWJIXXAIN  Natalia Corres \"Natalia Corres\"   \n",
       "3   4  B000UA0QIQ  A395BORC6FGVXV                             Karl   \n",
       "4   5  B006K2ZZ7K  A1UQRSCLF8GW1T    Michael D. Bigham \"M. Wassir\"   \n",
       "\n",
       "   HelpfulnessNumerator  HelpfulnessDenominator  Score        Time  \\\n",
       "0                     1                       1      5  1303862400   \n",
       "1                     0                       0      1  1346976000   \n",
       "2                     1                       1      4  1219017600   \n",
       "3                     3                       3      2  1307923200   \n",
       "4                     0                       0      5  1350777600   \n",
       "\n",
       "                 Summary                                               Text  \n",
       "0  Good Quality Dog Food  I have bought several of the Vitality canned d...  \n",
       "1      Not as Advertised  Product arrived labeled as Jumbo Salted Peanut...  \n",
       "2  \"Delight\" says it all  This is a confection that has been around a fe...  \n",
       "3         Cough Medicine  If you are looking for the secret ingredient i...  \n",
       "4            Great taffy  Great taffy at a great price.  There was a wid...  "
      ]
     },
     "execution_count": 3,
     "metadata": {},
     "output_type": "execute_result"
    }
   ],
   "source": [
    "df.head()"
   ]
  },
  {
   "cell_type": "markdown",
   "id": "d096763a",
   "metadata": {
    "papermill": {
     "duration": 0.007616,
     "end_time": "2024-09-27T01:55:33.038584",
     "exception": false,
     "start_time": "2024-09-27T01:55:33.030968",
     "status": "completed"
    },
    "tags": []
   },
   "source": [
    "## EDA"
   ]
  },
  {
   "cell_type": "code",
   "execution_count": 4,
   "id": "714741f7",
   "metadata": {
    "execution": {
     "iopub.execute_input": "2024-09-27T01:55:33.056940Z",
     "iopub.status.busy": "2024-09-27T01:55:33.056428Z",
     "iopub.status.idle": "2024-09-27T01:55:33.452231Z",
     "shell.execute_reply": "2024-09-27T01:55:33.450967Z"
    },
    "papermill": {
     "duration": 0.408611,
     "end_time": "2024-09-27T01:55:33.455051",
     "exception": false,
     "start_time": "2024-09-27T01:55:33.046440",
     "status": "completed"
    },
    "tags": []
   },
   "outputs": [
    {
     "data": {
      "text/plain": [
       "Text(0.5, 0, 'Review Stars')"
      ]
     },
     "execution_count": 4,
     "metadata": {},
     "output_type": "execute_result"
    },
    {
     "data": {
      "image/png": "[encoded data removed]",
      "text/plain": [
       "<Figure size 1000x500 with 1 Axes>"
      ]
     },
     "metadata": {},
     "output_type": "display_data"
    }
   ],
   "source": [
    "# value_counts gives the number of times each score occurs\n",
    "axis = df['Score'].value_counts().sort_index().plot(kind='bar',\n",
    "                                           title='Count of Reviews by Stars',\n",
    "                                           figsize=(10,5))\n",
    "axis.set_xlabel('Review Stars')"
   ]
  },
  {
   "cell_type": "markdown",
   "id": "1e803907",
   "metadata": {
    "papermill": {
     "duration": 0.008137,
     "end_time": "2024-09-27T01:55:33.471744",
     "exception": false,
     "start_time": "2024-09-27T01:55:33.463607",
     "status": "completed"
    },
    "tags": []
   },
   "source": [
    "## BASIC NLTK"
   ]
  },
  {
   "cell_type": "code",
   "execution_count": 5,
   "id": "e76636a0",
   "metadata": {
    "execution": {
     "iopub.execute_input": "2024-09-27T01:55:33.491083Z",
     "iopub.status.busy": "2024-09-27T01:55:33.490605Z",
     "iopub.status.idle": "2024-09-27T01:55:33.497058Z",
     "shell.execute_reply": "2024-09-27T01:55:33.495839Z"
    },
    "papermill": {
     "duration": 0.018736,
     "end_time": "2024-09-27T01:55:33.499399",
     "exception": false,
     "start_time": "2024-09-27T01:55:33.480663",
     "status": "completed"
    },
    "tags": []
   },
   "outputs": [
    {
     "name": "stdout",
     "output_type": "stream",
     "text": [
      "This oatmeal is not good. Its mushy, soft, I don't like it. Quaker Oats is the way to go.\n"
     ]
    }
   ],
   "source": [
    "example = df['Text'][50]\n",
    "print(example)"
   ]
  },
  {
   "cell_type": "code",
   "execution_count": 6,
   "id": "d9da6005",
   "metadata": {
    "execution": {
     "iopub.execute_input": "2024-09-27T01:55:33.520240Z",
     "iopub.status.busy": "2024-09-27T01:55:33.519764Z",
     "iopub.status.idle": "2024-09-27T01:55:33.543099Z",
     "shell.execute_reply": "2024-09-27T01:55:33.541779Z"
    },
    "papermill": {
     "duration": 0.037718,
     "end_time": "2024-09-27T01:55:33.545920",
     "exception": false,
     "start_time": "2024-09-27T01:55:33.508202",
     "status": "completed"
    },
    "tags": []
   },
   "outputs": [
    {
     "data": {
      "text/plain": [
       "['This', 'oatmeal', 'is', 'not', 'good', '.', 'Its', 'mushy', ',', 'soft']"
      ]
     },
     "execution_count": 6,
     "metadata": {},
     "output_type": "execute_result"
    }
   ],
   "source": [
    "# Split sentence into parts of each word\n",
    "# More accurate and readable (by computer) than splitting on spaces\n",
    "\n",
    "tokens = nltk.word_tokenize(example)\n",
    "tokens[:10]"
   ]
  },
  {
   "cell_type": "code",
   "execution_count": 7,
   "id": "48724a82",
   "metadata": {
    "execution": {
     "iopub.execute_input": "2024-09-27T01:55:33.565616Z",
     "iopub.status.busy": "2024-09-27T01:55:33.565178Z",
     "iopub.status.idle": "2024-09-27T01:55:33.727752Z",
     "shell.execute_reply": "2024-09-27T01:55:33.726353Z"
    },
    "papermill": {
     "duration": 0.175959,
     "end_time": "2024-09-27T01:55:33.730654",
     "exception": false,
     "start_time": "2024-09-27T01:55:33.554695",
     "status": "completed"
    },
    "tags": []
   },
   "outputs": [
    {
     "data": {
      "text/plain": [
       "[('This', 'DT'),\n",
       " ('oatmeal', 'NN'),\n",
       " ('is', 'VBZ'),\n",
       " ('not', 'RB'),\n",
       " ('good', 'JJ'),\n",
       " ('.', '.'),\n",
       " ('Its', 'PRP$'),\n",
       " ('mushy', 'NN'),\n",
       " (',', ','),\n",
       " ('soft', 'JJ')]"
      ]
     },
     "execution_count": 7,
     "metadata": {},
     "output_type": "execute_result"
    }
   ],
   "source": [
    "# pos_tag --> part of speech tag\n",
    "tagged = nltk.pos_tag(tokens)\n",
    "tagged[:10]\n",
    "\n",
    "# DT --> Determiner\n",
    "# NN --> Singular Noun\n",
    "# JJ --> Adjective\n",
    "# PRP --> Preposition"
   ]
  },
  {
   "cell_type": "code",
   "execution_count": 8,
   "id": "1b52a47b",
   "metadata": {
    "execution": {
     "iopub.execute_input": "2024-09-27T01:55:33.750521Z",
     "iopub.status.busy": "2024-09-27T01:55:33.750050Z",
     "iopub.status.idle": "2024-09-27T01:55:33.910572Z",
     "shell.execute_reply": "2024-09-27T01:55:33.909027Z"
    },
    "papermill": {
     "duration": 0.173927,
     "end_time": "2024-09-27T01:55:33.913542",
     "exception": false,
     "start_time": "2024-09-27T01:55:33.739615",
     "status": "completed"
    },
    "tags": []
   },
   "outputs": [
    {
     "name": "stdout",
     "output_type": "stream",
     "text": [
      "(S\n",
      "  This/DT\n",
      "  oatmeal/NN\n",
      "  is/VBZ\n",
      "  not/RB\n",
      "  good/JJ\n",
      "  ./.\n",
      "  Its/PRP$\n",
      "  mushy/NN\n",
      "  ,/,\n",
      "  soft/JJ\n",
      "  ,/,\n",
      "  I/PRP\n",
      "  do/VBP\n",
      "  n't/RB\n",
      "  like/VB\n",
      "  it/PRP\n",
      "  ./.\n",
      "  (ORGANIZATION Quaker/NNP Oats/NNPS)\n",
      "  is/VBZ\n",
      "  the/DT\n",
      "  way/NN\n",
      "  to/TO\n",
      "  go/VB\n",
      "  ./.)\n"
     ]
    }
   ],
   "source": [
    "# Take tokens and group them into chunks of text\n",
    "# pprint() --> Pretty print (print data structues in a readable way)\n",
    "entities = nltk.chunk.ne_chunk(tagged)\n",
    "entities.pprint()"
   ]
  },
  {
   "cell_type": "markdown",
   "id": "6133e329",
   "metadata": {
    "papermill": {
     "duration": 0.008887,
     "end_time": "2024-09-27T01:55:33.931520",
     "exception": false,
     "start_time": "2024-09-27T01:55:33.922633",
     "status": "completed"
    },
    "tags": []
   },
   "source": [
    "## VADER\n",
    "Valence Aware Dictionary (and) sEntiment Reasoner\n",
    "\n",
    "Takes each word and assigns a positive, negative, or neutral value. Then, for all words, it'll add up to communicate if the sentence ahs a positive, negative, or neutral sentiment.\n",
    "\n",
    "NOTES:\n",
    "Does not account for relationships between words, which is very important in human speech\n",
    "\n",
    "Stop words (ie. and, the) are removed\n",
    " \n"
   ]
  },
  {
   "cell_type": "code",
   "execution_count": 9,
   "id": "2c5fdea4",
   "metadata": {
    "execution": {
     "iopub.execute_input": "2024-09-27T01:55:33.951723Z",
     "iopub.status.busy": "2024-09-27T01:55:33.951274Z",
     "iopub.status.idle": "2024-09-27T01:55:33.995375Z",
     "shell.execute_reply": "2024-09-27T01:55:33.993986Z"
    },
    "papermill": {
     "duration": 0.057608,
     "end_time": "2024-09-27T01:55:33.998144",
     "exception": false,
     "start_time": "2024-09-27T01:55:33.940536",
     "status": "completed"
    },
    "tags": []
   },
   "outputs": [
    {
     "name": "stderr",
     "output_type": "stream",
     "text": [
      "/opt/conda/lib/python3.10/site-packages/nltk/twitter/__init__.py:20: UserWarning: The twython library has not been installed. Some functionality from the twitter package will not be available.\n",
      "  warnings.warn(\"The twython library has not been installed. \"\n"
     ]
    }
   ],
   "source": [
    "from nltk.sentiment import SentimentIntensityAnalyzer\n",
    "\n",
    "# Progress bar tracker for loops on data\n",
    "from tqdm.notebook import tqdm\n",
    "\n",
    "# Sentiment Intensity Analyzer Object\n",
    "\n",
    "sia = SentimentIntensityAnalyzer()"
   ]
  },
  {
   "cell_type": "code",
   "execution_count": 10,
   "id": "60b2d428",
   "metadata": {
    "execution": {
     "iopub.execute_input": "2024-09-27T01:55:34.018593Z",
     "iopub.status.busy": "2024-09-27T01:55:34.018189Z",
     "iopub.status.idle": "2024-09-27T01:55:34.025987Z",
     "shell.execute_reply": "2024-09-27T01:55:34.024813Z"
    },
    "papermill": {
     "duration": 0.020991,
     "end_time": "2024-09-27T01:55:34.028483",
     "exception": false,
     "start_time": "2024-09-27T01:55:34.007492",
     "status": "completed"
    },
    "tags": []
   },
   "outputs": [
    {
     "data": {
      "text/plain": [
       "{'neg': 0.0, 'neu': 0.318, 'pos': 0.682, 'compound': 0.6468}"
      ]
     },
     "execution_count": 10,
     "metadata": {},
     "output_type": "execute_result"
    }
   ],
   "source": [
    "sia.polarity_scores('I am so happy!')\n",
    "\n",
    "# No negative, some neutral, mostly positive --> Accurate\n",
    "# Compound value ranges from -1 to 1 and represents how negative to positive it is"
   ]
  },
  {
   "cell_type": "code",
   "execution_count": 11,
   "id": "e775c0b6",
   "metadata": {
    "execution": {
     "iopub.execute_input": "2024-09-27T01:55:34.048966Z",
     "iopub.status.busy": "2024-09-27T01:55:34.048477Z",
     "iopub.status.idle": "2024-09-27T01:55:34.057087Z",
     "shell.execute_reply": "2024-09-27T01:55:34.055777Z"
    },
    "papermill": {
     "duration": 0.022004,
     "end_time": "2024-09-27T01:55:34.059753",
     "exception": false,
     "start_time": "2024-09-27T01:55:34.037749",
     "status": "completed"
    },
    "tags": []
   },
   "outputs": [
    {
     "data": {
      "text/plain": [
       "{'neg': 0.451, 'neu': 0.549, 'pos': 0.0, 'compound': -0.6249}"
      ]
     },
     "execution_count": 11,
     "metadata": {},
     "output_type": "execute_result"
    }
   ],
   "source": [
    "sia.polarity_scores('This is the worst thing ever.')\n",
    "\n",
    "# Fairly negative, mostly neutral (likely because of \".\" over \"!\"), and no positive\n",
    "# Compound value shows its negative overall"
   ]
  },
  {
   "cell_type": "code",
   "execution_count": 12,
   "id": "dc268310",
   "metadata": {
    "execution": {
     "iopub.execute_input": "2024-09-27T01:55:34.080841Z",
     "iopub.status.busy": "2024-09-27T01:55:34.080422Z",
     "iopub.status.idle": "2024-09-27T01:55:34.088416Z",
     "shell.execute_reply": "2024-09-27T01:55:34.087207Z"
    },
    "papermill": {
     "duration": 0.02153,
     "end_time": "2024-09-27T01:55:34.090920",
     "exception": false,
     "start_time": "2024-09-27T01:55:34.069390",
     "status": "completed"
    },
    "tags": []
   },
   "outputs": [
    {
     "data": {
      "text/plain": [
       "{'neg': 0.22, 'neu': 0.78, 'pos': 0.0, 'compound': -0.5448}"
      ]
     },
     "execution_count": 12,
     "metadata": {},
     "output_type": "execute_result"
    }
   ],
   "source": [
    "sia.polarity_scores(example)\n",
    "\n",
    "# Overall negative (compund score)"
   ]
  },
  {
   "cell_type": "code",
   "execution_count": 13,
   "id": "e9613b44",
   "metadata": {
    "execution": {
     "iopub.execute_input": "2024-09-27T01:55:34.112348Z",
     "iopub.status.busy": "2024-09-27T01:55:34.111907Z",
     "iopub.status.idle": "2024-09-27T01:55:34.822011Z",
     "shell.execute_reply": "2024-09-27T01:55:34.820700Z"
    },
    "papermill": {
     "duration": 0.724746,
     "end_time": "2024-09-27T01:55:34.825366",
     "exception": false,
     "start_time": "2024-09-27T01:55:34.100620",
     "status": "completed"
    },
    "tags": []
   },
   "outputs": [
    {
     "data": {
      "application/vnd.jupyter.widget-view+json": {
       "model_id": "c81a4a55f6ce40ba9f4e2d4349479db9",
       "version_major": 2,
       "version_minor": 0
      },
      "text/plain": [
       "  0%|          | 0/500 [00:00<?, ?it/s]"
      ]
     },
     "metadata": {},
     "output_type": "display_data"
    }
   ],
   "source": [
    "# Run the polarity score on the entire dataset\n",
    "res = {}\n",
    "for i, row in tqdm(df.iterrows(), total=len(df)):\n",
    "    text = row['Text']\n",
    "    myid = row['Id']\n",
    "    res[myid] = sia.polarity_scores(text)"
   ]
  },
  {
   "cell_type": "code",
   "execution_count": 14,
   "id": "8507333a",
   "metadata": {
    "execution": {
     "iopub.execute_input": "2024-09-27T01:55:34.846857Z",
     "iopub.status.busy": "2024-09-27T01:55:34.846423Z",
     "iopub.status.idle": "2024-09-27T01:55:34.877987Z",
     "shell.execute_reply": "2024-09-27T01:55:34.876915Z"
    },
    "papermill": {
     "duration": 0.045685,
     "end_time": "2024-09-27T01:55:34.880945",
     "exception": false,
     "start_time": "2024-09-27T01:55:34.835260",
     "status": "completed"
    },
    "tags": []
   },
   "outputs": [],
   "source": [
    "# Pandas (pd) DataFrame frames the data\n",
    "# .T flips the frame horizontally\n",
    "# Indexs are ids\n",
    "\n",
    "vaders = pd.DataFrame(res).T\n",
    "vaders = vaders.reset_index().rename(columns={'index': 'Id'})\n",
    "vaders = vaders.merge(df, how='left')"
   ]
  },
  {
   "cell_type": "code",
   "execution_count": 15,
   "id": "0ecd3640",
   "metadata": {
    "execution": {
     "iopub.execute_input": "2024-09-27T01:55:34.902356Z",
     "iopub.status.busy": "2024-09-27T01:55:34.901859Z",
     "iopub.status.idle": "2024-09-27T01:55:34.922495Z",
     "shell.execute_reply": "2024-09-27T01:55:34.921016Z"
    },
    "papermill": {
     "duration": 0.034414,
     "end_time": "2024-09-27T01:55:34.925255",
     "exception": false,
     "start_time": "2024-09-27T01:55:34.890841",
     "status": "completed"
    },
    "tags": []
   },
   "outputs": [
    {
     "data": {
      "text/html": [
       "<div>\n",
       "<style scoped>\n",
       "    .dataframe tbody tr th:only-of-type {\n",
       "        vertical-align: middle;\n",
       "    }\n",
       "\n",
       "    .dataframe tbody tr th {\n",
       "        vertical-align: top;\n",
       "    }\n",
       "\n",
       "    .dataframe thead th {\n",
       "        text-align: right;\n",
       "    }\n",
       "</style>\n",
       "<table border=\"1\" class=\"dataframe\">\n",
       "  <thead>\n",
       "    <tr style=\"text-align: right;\">\n",
       "      <th></th>\n",
       "      <th>Id</th>\n",
       "      <th>neg</th>\n",
       "      <th>neu</th>\n",
       "      <th>pos</th>\n",
       "      <th>compound</th>\n",
       "      <th>ProductId</th>\n",
       "      <th>UserId</th>\n",
       "      <th>ProfileName</th>\n",
       "      <th>HelpfulnessNumerator</th>\n",
       "      <th>HelpfulnessDenominator</th>\n",
       "      <th>Score</th>\n",
       "      <th>Time</th>\n",
       "      <th>Summary</th>\n",
       "      <th>Text</th>\n",
       "    </tr>\n",
       "  </thead>\n",
       "  <tbody>\n",
       "    <tr>\n",
       "      <th>0</th>\n",
       "      <td>1</td>\n",
       "      <td>0.000</td>\n",
       "      <td>0.695</td>\n",
       "      <td>0.305</td>\n",
       "      <td>0.9441</td>\n",
       "      <td>B001E4KFG0</td>\n",
       "      <td>A3SGXH7AUHU8GW</td>\n",
       "      <td>delmartian</td>\n",
       "      <td>1</td>\n",
       "      <td>1</td>\n",
       "      <td>5</td>\n",
       "      <td>1303862400</td>\n",
       "      <td>Good Quality Dog Food</td>\n",
       "      <td>I have bought several of the Vitality canned d...</td>\n",
       "    </tr>\n",
       "    <tr>\n",
       "      <th>1</th>\n",
       "      <td>2</td>\n",
       "      <td>0.079</td>\n",
       "      <td>0.853</td>\n",
       "      <td>0.068</td>\n",
       "      <td>-0.1027</td>\n",
       "      <td>B00813GRG4</td>\n",
       "      <td>A1D87F6ZCVE5NK</td>\n",
       "      <td>dll pa</td>\n",
       "      <td>0</td>\n",
       "      <td>0</td>\n",
       "      <td>1</td>\n",
       "      <td>1346976000</td>\n",
       "      <td>Not as Advertised</td>\n",
       "      <td>Product arrived labeled as Jumbo Salted Peanut...</td>\n",
       "    </tr>\n",
       "    <tr>\n",
       "      <th>2</th>\n",
       "      <td>3</td>\n",
       "      <td>0.091</td>\n",
       "      <td>0.754</td>\n",
       "      <td>0.155</td>\n",
       "      <td>0.8265</td>\n",
       "      <td>B000LQOCH0</td>\n",
       "      <td>ABXLMWJIXXAIN</td>\n",
       "      <td>Natalia Corres \"Natalia Corres\"</td>\n",
       "      <td>1</td>\n",
       "      <td>1</td>\n",
       "      <td>4</td>\n",
       "      <td>1219017600</td>\n",
       "      <td>\"Delight\" says it all</td>\n",
       "      <td>This is a confection that has been around a fe...</td>\n",
       "    </tr>\n",
       "    <tr>\n",
       "      <th>3</th>\n",
       "      <td>4</td>\n",
       "      <td>0.000</td>\n",
       "      <td>1.000</td>\n",
       "      <td>0.000</td>\n",
       "      <td>0.0000</td>\n",
       "      <td>B000UA0QIQ</td>\n",
       "      <td>A395BORC6FGVXV</td>\n",
       "      <td>Karl</td>\n",
       "      <td>3</td>\n",
       "      <td>3</td>\n",
       "      <td>2</td>\n",
       "      <td>1307923200</td>\n",
       "      <td>Cough Medicine</td>\n",
       "      <td>If you are looking for the secret ingredient i...</td>\n",
       "    </tr>\n",
       "    <tr>\n",
       "      <th>4</th>\n",
       "      <td>5</td>\n",
       "      <td>0.000</td>\n",
       "      <td>0.552</td>\n",
       "      <td>0.448</td>\n",
       "      <td>0.9468</td>\n",
       "      <td>B006K2ZZ7K</td>\n",
       "      <td>A1UQRSCLF8GW1T</td>\n",
       "      <td>Michael D. Bigham \"M. Wassir\"</td>\n",
       "      <td>0</td>\n",
       "      <td>0</td>\n",
       "      <td>5</td>\n",
       "      <td>1350777600</td>\n",
       "      <td>Great taffy</td>\n",
       "      <td>Great taffy at a great price.  There was a wid...</td>\n",
       "    </tr>\n",
       "  </tbody>\n",
       "</table>\n",
       "</div>"
      ],
      "text/plain": [
       "   Id    neg    neu    pos  compound   ProductId          UserId  \\\n",
       "0   1  0.000  0.695  0.305    0.9441  B001E4KFG0  A3SGXH7AUHU8GW   \n",
       "1   2  0.079  0.853  0.068   -0.1027  B00813GRG4  A1D87F6ZCVE5NK   \n",
       "2   3  0.091  0.754  0.155    0.8265  B000LQOCH0   ABXLMWJIXXAIN   \n",
       "3   4  0.000  1.000  0.000    0.0000  B000UA0QIQ  A395BORC6FGVXV   \n",
       "4   5  0.000  0.552  0.448    0.9468  B006K2ZZ7K  A1UQRSCLF8GW1T   \n",
       "\n",
       "                       ProfileName  HelpfulnessNumerator  \\\n",
       "0                       delmartian                     1   \n",
       "1                           dll pa                     0   \n",
       "2  Natalia Corres \"Natalia Corres\"                     1   \n",
       "3                             Karl                     3   \n",
       "4    Michael D. Bigham \"M. Wassir\"                     0   \n",
       "\n",
       "   HelpfulnessDenominator  Score        Time                Summary  \\\n",
       "0                       1      5  1303862400  Good Quality Dog Food   \n",
       "1                       0      1  1346976000      Not as Advertised   \n",
       "2                       1      4  1219017600  \"Delight\" says it all   \n",
       "3                       3      2  1307923200         Cough Medicine   \n",
       "4                       0      5  1350777600            Great taffy   \n",
       "\n",
       "                                                Text  \n",
       "0  I have bought several of the Vitality canned d...  \n",
       "1  Product arrived labeled as Jumbo Salted Peanut...  \n",
       "2  This is a confection that has been around a fe...  \n",
       "3  If you are looking for the secret ingredient i...  \n",
       "4  Great taffy at a great price.  There was a wid...  "
      ]
     },
     "execution_count": 15,
     "metadata": {},
     "output_type": "execute_result"
    }
   ],
   "source": [
    "# Now, the table has sentiment score and metadata\n",
    "vaders.head()\n",
    "\n",
    "# Can track accuracy of sentiment analysis based off star rating of review"
   ]
  },
  {
   "cell_type": "markdown",
   "id": "47dad154",
   "metadata": {
    "papermill": {
     "duration": 0.00974,
     "end_time": "2024-09-27T01:55:34.945059",
     "exception": false,
     "start_time": "2024-09-27T01:55:34.935319",
     "status": "completed"
    },
    "tags": []
   },
   "source": [
    "## Plot VADER Results"
   ]
  },
  {
   "cell_type": "code",
   "execution_count": 16,
   "id": "255a5a92",
   "metadata": {
    "execution": {
     "iopub.execute_input": "2024-09-27T01:55:34.968067Z",
     "iopub.status.busy": "2024-09-27T01:55:34.967191Z",
     "iopub.status.idle": "2024-09-27T01:55:35.349143Z",
     "shell.execute_reply": "2024-09-27T01:55:35.347840Z"
    },
    "papermill": {
     "duration": 0.396052,
     "end_time": "2024-09-27T01:55:35.351684",
     "exception": false,
     "start_time": "2024-09-27T01:55:34.955632",
     "status": "completed"
    },
    "tags": []
   },
   "outputs": [
    {
     "data": {
      "image/png": "[encoded data removed]",
      "text/plain": [
       "<Figure size 640x480 with 1 Axes>"
      ]
     },
     "metadata": {},
     "output_type": "display_data"
    }
   ],
   "source": [
    "# \"compound\" must NOT be capatalized --> that's how it is outputted in sia\n",
    "axis = sns.barplot(data=vaders, x='Score', y='compound')\n",
    "axis.set_title('Compound Score by Amazon Star Review')\n",
    "plt.show()\n",
    "\n",
    "# Table shows lower star reviews have lower compound scores, and higher star reviews have higher compound scores\n"
   ]
  },
  {
   "cell_type": "code",
   "execution_count": 17,
   "id": "cf1a2eb5",
   "metadata": {
    "execution": {
     "iopub.execute_input": "2024-09-27T01:55:35.374644Z",
     "iopub.status.busy": "2024-09-27T01:55:35.374199Z",
     "iopub.status.idle": "2024-09-27T01:55:36.663058Z",
     "shell.execute_reply": "2024-09-27T01:55:36.661890Z"
    },
    "papermill": {
     "duration": 1.303377,
     "end_time": "2024-09-27T01:55:36.665590",
     "exception": false,
     "start_time": "2024-09-27T01:55:35.362213",
     "status": "completed"
    },
    "tags": []
   },
   "outputs": [
    {
     "data": {
      "image/png": "[encoded data removed]",
      "text/plain": [
       "<Figure size 1200x300 with 3 Axes>"
      ]
     },
     "metadata": {},
     "output_type": "display_data"
    }
   ],
   "source": [
    "# Make barplots for each pos, neg, neu\n",
    "\n",
    "# Make a 1x3 grid\n",
    "fig, axs = plt.subplots(1,3,figsize=(12,3))\n",
    "# Figure size is simply the size of each cell\n",
    "\n",
    "# Create plots\n",
    "sns.barplot(data=vaders, x='Score', y='pos', ax=axs[0])\n",
    "sns.barplot(data=vaders, x='Score', y='neu',ax=axs[1])\n",
    "sns.barplot(data=vaders, x='Score', y='neg', ax=axs[2])\n",
    "\n",
    "# Titles\n",
    "axs[0].set_title('Positive')\n",
    "axs[1].set_title('Neutral')\n",
    "axs[2].set_title('Negative')\n",
    "\n",
    "plt.tight_layout()\n",
    "plt.show() \n"
   ]
  },
  {
   "cell_type": "markdown",
   "id": "b778d05e",
   "metadata": {
    "papermill": {
     "duration": 0.01084,
     "end_time": "2024-09-27T01:55:36.687674",
     "exception": false,
     "start_time": "2024-09-27T01:55:36.676834",
     "status": "completed"
    },
    "tags": []
   },
   "source": [
    "Graphs validate VADER\n",
    "\n",
    "For positive, the more stars a review has, the more postiive the sentiment is. The less stars a review has, the less positive the sentiment is.\n",
    "\n",
    "For neutral, the scores are even.\n",
    "\n",
    "For negative, the more stars a review has, the less negative the sentiment is. The less stars a review has, the more negative the sentiment is."
   ]
  }
 ],
 "metadata": {
  "kaggle": {
   "accelerator": "none",
   "dataSources": [
    {
     "datasetId": 5717860,
     "sourceId": 9415129,
     "sourceType": "datasetVersion"
    }
   ],
   "dockerImageVersionId": 30761,
   "isGpuEnabled": false,
   "isInternetEnabled": false,
   "language": "python",
   "sourceType": "notebook"
  },
  "kernelspec": {
   "display_name": "Python 3",
   "language": "python",
   "name": "python3"
  },
  "language_info": {
   "codemirror_mode": {
    "name": "ipython",
    "version": 3
   },
   "file_extension": ".py",
   "mimetype": "text/x-python",
   "name": "python",
   "nbconvert_exporter": "python",
   "pygments_lexer": "ipython3",
   "version": "3.10.14"
  },
  "papermill": {
   "default_parameters": {},
   "duration": 20.247461,
   "end_time": "2024-09-27T01:55:37.621626",
   "environment_variables": {},
   "exception": null,
   "input_path": "__notebook__.ipynb",
   "output_path": "__notebook__.ipynb",
   "parameters": {},
   "start_time": "2024-09-27T01:55:17.374165",
   "version": "2.6.0"
  },
  "widgets": {
   "application/vnd.jupyter.widget-state+json": {
    "state": {
     "20949f0b7376449bb3c700273cad747a": {
      "model_module": "@jupyter-widgets/base",
      "model_module_version": "1.2.0",
      "model_name": "LayoutModel",
      "state": {
       "_model_module": "@jupyter-widgets/base",
       "_model_module_version": "1.2.0",
       "_model_name": "LayoutModel",
       "_view_count": null,
       "_view_module": "@jupyter-widgets/base",
       "_view_module_version": "1.2.0",
       "_view_name": "LayoutView",
       "align_content": null,
       "align_items": null,
       "align_self": null,
       "border": null,
       "bottom": null,
       "display": null,
       "flex": null,
       "flex_flow": null,
       "grid_area": null,
       "grid_auto_columns": null,
       "grid_auto_flow": null,
       "grid_auto_rows": null,
       "grid_column": null,
       "grid_gap": null,
       "grid_row": null,
       "grid_template_areas": null,
       "grid_template_columns": null,
       "grid_template_rows": null,
       "height": null,
       "justify_content": null,
       "justify_items": null,
       "left": null,
       "margin": null,
       "max_height": null,
       "max_width": null,
       "min_height": null,
       "min_width": null,
       "object_fit": null,
       "object_position": null,
       "order": null,
       "overflow": null,
       "overflow_x": null,
       "overflow_y": null,
       "padding": null,
       "right": null,
       "top": null,
       "visibility": null,
       "width": null
      }
     },
     "4f6b8ae6b8a84cd3b7967013268b6600": {
      "model_module": "@jupyter-widgets/controls",
      "model_module_version": "1.5.0",
      "model_name": "HTMLModel",
      "state": {
       "_dom_classes": [],
       "_model_module": "@jupyter-widgets/controls",
       "_model_module_version": "1.5.0",
       "_model_name": "HTMLModel",
       "_view_count": null,
       "_view_module": "@jupyter-widgets/controls",
       "_view_module_version": "1.5.0",
       "_view_name": "HTMLView",
       "description": "",
       "description_tooltip": null,
       "layout": "IPY_MODEL_c1cc698b2b364110808f72e4a62e2763",
       "placeholder": "​",
       "style": "IPY_MODEL_575d347eae604e65bc1e9be32eb3dd8c",
       "value": "100%"
      }
     },
     "575d347eae604e65bc1e9be32eb3dd8c": {
      "model_module": "@jupyter-widgets/controls",
      "model_module_version": "1.5.0",
      "model_name": "DescriptionStyleModel",
      "state": {
       "_model_module": "@jupyter-widgets/controls",
       "_model_module_version": "1.5.0",
       "_model_name": "DescriptionStyleModel",
       "_view_count": null,
       "_view_module": "@jupyter-widgets/base",
       "_view_module_version": "1.2.0",
       "_view_name": "StyleView",
       "description_width": ""
      }
     },
     "5b5943650b304b1f9f04d1cf14e66ad2": {
      "model_module": "@jupyter-widgets/controls",
      "model_module_version": "1.5.0",
      "model_name": "ProgressStyleModel",
      "state": {
       "_model_module": "@jupyter-widgets/controls",
       "_model_module_version": "1.5.0",
       "_model_name": "ProgressStyleModel",
       "_view_count": null,
       "_view_module": "@jupyter-widgets/base",
       "_view_module_version": "1.2.0",
       "_view_name": "StyleView",
       "bar_color": null,
       "description_width": ""
      }
     },
     "5ee8f30a37564d8e99e31e7609b8c9af": {
      "model_module": "@jupyter-widgets/base",
      "model_module_version": "1.2.0",
      "model_name": "LayoutModel",
      "state": {
       "_model_module": "@jupyter-widgets/base",
       "_model_module_version": "1.2.0",
       "_model_name": "LayoutModel",
       "_view_count": null,
       "_view_module": "@jupyter-widgets/base",
       "_view_module_version": "1.2.0",
       "_view_name": "LayoutView",
       "align_content": null,
       "align_items": null,
       "align_self": null,
       "border": null,
       "bottom": null,
       "display": null,
       "flex": null,
       "flex_flow": null,
       "grid_area": null,
       "grid_auto_columns": null,
       "grid_auto_flow": null,
       "grid_auto_rows": null,
       "grid_column": null,
       "grid_gap": null,
       "grid_row": null,
       "grid_template_areas": null,
       "grid_template_columns": null,
       "grid_template_rows": null,
       "height": null,
       "justify_content": null,
       "justify_items": null,
       "left": null,
       "margin": null,
       "max_height": null,
       "max_width": null,
       "min_height": null,
       "min_width": null,
       "object_fit": null,
       "object_position": null,
       "order": null,
       "overflow": null,
       "overflow_x": null,
       "overflow_y": null,
       "padding": null,
       "right": null,
       "top": null,
       "visibility": null,
       "width": null
      }
     },
     "a7dc657d1ed54dc79f6669a6e137bc01": {
      "model_module": "@jupyter-widgets/controls",
      "model_module_version": "1.5.0",
      "model_name": "DescriptionStyleModel",
      "state": {
       "_model_module": "@jupyter-widgets/controls",
       "_model_module_version": "1.5.0",
       "_model_name": "DescriptionStyleModel",
       "_view_count": null,
       "_view_module": "@jupyter-widgets/base",
       "_view_module_version": "1.2.0",
       "_view_name": "StyleView",
       "description_width": ""
      }
     },
     "c0691999c2c8411da8183c92b2fbe039": {
      "model_module": "@jupyter-widgets/controls",
      "model_module_version": "1.5.0",
      "model_name": "FloatProgressModel",
      "state": {
       "_dom_classes": [],
       "_model_module": "@jupyter-widgets/controls",
       "_model_module_version": "1.5.0",
       "_model_name": "FloatProgressModel",
       "_view_count": null,
       "_view_module": "@jupyter-widgets/controls",
       "_view_module_version": "1.5.0",
       "_view_name": "ProgressView",
       "bar_style": "success",
       "description": "",
       "description_tooltip": null,
       "layout": "IPY_MODEL_20949f0b7376449bb3c700273cad747a",
       "max": 500.0,
       "min": 0.0,
       "orientation": "horizontal",
       "style": "IPY_MODEL_5b5943650b304b1f9f04d1cf14e66ad2",
       "value": 500.0
      }
     },
     "c1cc698b2b364110808f72e4a62e2763": {
      "model_module": "@jupyter-widgets/base",
      "model_module_version": "1.2.0",
      "model_name": "LayoutModel",
      "state": {
       "_model_module": "@jupyter-widgets/base",
       "_model_module_version": "1.2.0",
       "_model_name": "LayoutModel",
       "_view_count": null,
       "_view_module": "@jupyter-widgets/base",
       "_view_module_version": "1.2.0",
       "_view_name": "LayoutView",
       "align_content": null,
       "align_items": null,
       "align_self": null,
       "border": null,
       "bottom": null,
       "display": null,
       "flex": null,
       "flex_flow": null,
       "grid_area": null,
       "grid_auto_columns": null,
       "grid_auto_flow": null,
       "grid_auto_rows": null,
       "grid_column": null,
       "grid_gap": null,
       "grid_row": null,
       "grid_template_areas": null,
       "grid_template_columns": null,
       "grid_template_rows": null,
       "height": null,
       "justify_content": null,
       "justify_items": null,
       "left": null,
       "margin": null,
       "max_height": null,
       "max_width": null,
       "min_height": null,
       "min_width": null,
       "object_fit": null,
       "object_position": null,
       "order": null,
       "overflow": null,
       "overflow_x": null,
       "overflow_y": null,
       "padding": null,
       "right": null,
       "top": null,
       "visibility": null,
       "width": null
      }
     },
     "c81a4a55f6ce40ba9f4e2d4349479db9": {
      "model_module": "@jupyter-widgets/controls",
      "model_module_version": "1.5.0",
      "model_name": "HBoxModel",
      "state": {
       "_dom_classes": [],
       "_model_module": "@jupyter-widgets/controls",
       "_model_module_version": "1.5.0",
       "_model_name": "HBoxModel",
       "_view_count": null,
       "_view_module": "@jupyter-widgets/controls",
       "_view_module_version": "1.5.0",
       "_view_name": "HBoxView",
       "box_style": "",
       "children": [
        "IPY_MODEL_4f6b8ae6b8a84cd3b7967013268b6600",
        "IPY_MODEL_c0691999c2c8411da8183c92b2fbe039",
        "IPY_MODEL_f6b9274217dc466a9d6ef1e1d05ced0d"
       ],
       "layout": "IPY_MODEL_5ee8f30a37564d8e99e31e7609b8c9af"
      }
     },
     "eb464ed67492413c9dac39be4727e21a": {
      "model_module": "@jupyter-widgets/base",
      "model_module_version": "1.2.0",
      "model_name": "LayoutModel",
      "state": {
       "_model_module": "@jupyter-widgets/base",
       "_model_module_version": "1.2.0",
       "_model_name": "LayoutModel",
       "_view_count": null,
       "_view_module": "@jupyter-widgets/base",
       "_view_module_version": "1.2.0",
       "_view_name": "LayoutView",
       "align_content": null,
       "align_items": null,
       "align_self": null,
       "border": null,
       "bottom": null,
       "display": null,
       "flex": null,
       "flex_flow": null,
       "grid_area": null,
       "grid_auto_columns": null,
       "grid_auto_flow": null,
       "grid_auto_rows": null,
       "grid_column": null,
       "grid_gap": null,
       "grid_row": null,
       "grid_template_areas": null,
       "grid_template_columns": null,
       "grid_template_rows": null,
       "height": null,
       "justify_content": null,
       "justify_items": null,
       "left": null,
       "margin": null,
       "max_height": null,
       "max_width": null,
       "min_height": null,
       "min_width": null,
       "object_fit": null,
       "object_position": null,
       "order": null,
       "overflow": null,
       "overflow_x": null,
       "overflow_y": null,
       "padding": null,
       "right": null,
       "top": null,
       "visibility": null,
       "width": null
      }
     },
     "f6b9274217dc466a9d6ef1e1d05ced0d": {
      "model_module": "@jupyter-widgets/controls",
      "model_module_version": "1.5.0",
      "model_name": "HTMLModel",
      "state": {
       "_dom_classes": [],
       "_model_module": "@jupyter-widgets/controls",
       "_model_module_version": "1.5.0",
       "_model_name": "HTMLModel",
       "_view_count": null,
       "_view_module": "@jupyter-widgets/controls",
       "_view_module_version": "1.5.0",
       "_view_name": "HTMLView",
       "description": "",
       "description_tooltip": null,
       "layout": "IPY_MODEL_eb464ed67492413c9dac39be4727e21a",
       "placeholder": "​",
       "style": "IPY_MODEL_a7dc657d1ed54dc79f6669a6e137bc01",
       "value": " 500/500 [00:00&lt;00:00, 706.08it/s]"
      }
     }
    },
    "version_major": 2,
    "version_minor": 0
   }
  }
 },
 "nbformat": 4,
 "nbformat_minor": 5
}
